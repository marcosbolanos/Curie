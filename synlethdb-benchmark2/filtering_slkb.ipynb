{
 "cells": [
  {
   "cell_type": "markdown",
   "metadata": {},
   "source": [
    "# Benchmark 2.0 \n",
    "\n",
    "- This time, we are using a new database : SLKB, which has higher-quality, uniform data\n",
    "- We are integrating the wilcox displacement estimate into the labeling of our positive results (which should have been done already)\n",
    "- We will use no negative samples, instead relying on positive vs unlabeled samples\n",
    "- Positive samples will be benchmarked against interactions found in n different cell lines\n",
    "- SLKB uses different scoring systems with small overlap. \n",
    "  \n",
    "- We will evaluate the overlap with each scoring system separately, at different thresholds : draw a heatmap table with one column per scoring system, and one row per score threshold, where each square is colored corresponding to the precision of the model.\n",
    "- This heatmap can be redrawn for different p-value thresholds and numbers of cell lines"
   ]
  },
  {
   "cell_type": "code",
   "execution_count": 3,
   "metadata": {},
   "outputs": [],
   "source": [
    "import os\n",
    "import gdown\n",
    "import pandas as pd\n",
    "import numpy as np\n",
    "import matplotlib.pyplot as plt\n",
    "\n",
    "from collections import Counter"
   ]
  },
  {
   "cell_type": "code",
   "execution_count": 11,
   "metadata": {},
   "outputs": [
    {
     "name": "stdout",
     "output_type": "stream",
     "text": [
      "Downloading inputs/SLKB_predictions.xlsx...\n"
     ]
    },
    {
     "name": "stderr",
     "output_type": "stream",
     "text": [
      "Downloading...\n",
      "From: https://slkb.osubmi.org/session/09c5c4738990db9810156682c87de6b8/download/download_data-predSL?w=\n",
      "To: /var/home/marcos/Code/bioinfo/Marcos/synlethdb-benchmark2/inputs/SLKB_predictions.xlsx\n",
      "2.26MB [00:02, 956kB/s] \n"
     ]
    }
   ],
   "source": [
    "# This cell allows you to download the necessary SLKB files\n",
    "# Google drive links come from slkb.osubmi.org\n",
    "\n",
    "file_urls = {\n",
    "    # SLKB files, obtrained from slkb.osubmi.org\n",
    "    \"inputs/SLKB_predictions.xlsx\": \"https://slkb.osubmi.org/session/09c5c4738990db9810156682c87de6b8/download/download_data-predSL?w=\"\n",
    "}\n",
    "# Create the inputs directory if it doesn't exist\n",
    "os.makedirs(\"inputs\", exist_ok=True)\n",
    "\n",
    "# Download missing files\n",
    "for filepath, file_url in file_urls.items():\n",
    "    if not os.path.exists(filepath):\n",
    "        print(f\"Downloading {filepath}...\")\n",
    "        gdown.download(file_url, filepath, quiet=False)"
   ]
  },
  {
   "cell_type": "code",
   "execution_count": 7,
   "metadata": {},
   "outputs": [
    {
     "name": "stdout",
     "output_type": "stream",
     "text": [
      "(130676, 6)\n"
     ]
    },
    {
     "data": {
      "text/html": [
       "<div>\n",
       "<style scoped>\n",
       "    .dataframe tbody tr th:only-of-type {\n",
       "        vertical-align: middle;\n",
       "    }\n",
       "\n",
       "    .dataframe tbody tr th {\n",
       "        vertical-align: top;\n",
       "    }\n",
       "\n",
       "    .dataframe thead th {\n",
       "        text-align: right;\n",
       "    }\n",
       "</style>\n",
       "<table border=\"1\" class=\"dataframe\">\n",
       "  <thead>\n",
       "    <tr style=\"text-align: right;\">\n",
       "      <th></th>\n",
       "      <th>mutant</th>\n",
       "      <th>gene</th>\n",
       "      <th>num_lines_high</th>\n",
       "      <th>num_lines_low</th>\n",
       "      <th>estimate</th>\n",
       "      <th>p_adj</th>\n",
       "    </tr>\n",
       "  </thead>\n",
       "  <tbody>\n",
       "    <tr>\n",
       "      <th>0</th>\n",
       "      <td>ARID1A</td>\n",
       "      <td>EP300</td>\n",
       "      <td>98</td>\n",
       "      <td>98</td>\n",
       "      <td>-0.368858</td>\n",
       "      <td>8.644689e-08</td>\n",
       "    </tr>\n",
       "    <tr>\n",
       "      <th>1</th>\n",
       "      <td>ARID1A</td>\n",
       "      <td>MICOS10</td>\n",
       "      <td>98</td>\n",
       "      <td>98</td>\n",
       "      <td>-0.241643</td>\n",
       "      <td>7.014478e-07</td>\n",
       "    </tr>\n",
       "    <tr>\n",
       "      <th>2</th>\n",
       "      <td>ARID1A</td>\n",
       "      <td>PDCD10</td>\n",
       "      <td>98</td>\n",
       "      <td>98</td>\n",
       "      <td>-0.185685</td>\n",
       "      <td>2.418385e-06</td>\n",
       "    </tr>\n",
       "    <tr>\n",
       "      <th>3</th>\n",
       "      <td>ARID1A</td>\n",
       "      <td>SDHD</td>\n",
       "      <td>98</td>\n",
       "      <td>98</td>\n",
       "      <td>-0.236701</td>\n",
       "      <td>6.698955e-06</td>\n",
       "    </tr>\n",
       "    <tr>\n",
       "      <th>4</th>\n",
       "      <td>ARID1A</td>\n",
       "      <td>ROCK1</td>\n",
       "      <td>98</td>\n",
       "      <td>98</td>\n",
       "      <td>-0.115831</td>\n",
       "      <td>2.065706e-05</td>\n",
       "    </tr>\n",
       "  </tbody>\n",
       "</table>\n",
       "</div>"
      ],
      "text/plain": [
       "   mutant     gene  num_lines_high  num_lines_low  estimate         p_adj\n",
       "0  ARID1A    EP300              98             98 -0.368858  8.644689e-08\n",
       "1  ARID1A  MICOS10              98             98 -0.241643  7.014478e-07\n",
       "2  ARID1A   PDCD10              98             98 -0.185685  2.418385e-06\n",
       "3  ARID1A     SDHD              98             98 -0.236701  6.698955e-06\n",
       "4  ARID1A    ROCK1              98             98 -0.115831  2.065706e-05"
      ]
     },
     "execution_count": 7,
     "metadata": {},
     "output_type": "execute_result"
    }
   ],
   "source": [
    "# This excel file is the output of the model we want to benchmark\n",
    "\n",
    "model_predictions = pd.read_excel(\"inputs/Supplementary_Table_11_CRISPR_DepMap_analysis.xlsx\", sheet_name = None)\n",
    "\n",
    "# We first extract the list of \"mutant\" genes included in our model, by getting the names of the tabs in the excel file, this will be used later\n",
    "mutant_genes = model_predictions.keys()\n",
    "mutant_genes_list = list(mutant_genes)\n",
    "\n",
    "# Then, we extract a list of \"ko\" genes, which are simply all of the genes that each mutant (such as ARID1A) was tested against. \n",
    "# Of course, this also has to include ARID1A itself.\n",
    "ko_genes_list = model_predictions['ARID1A']['gene'].tolist()\n",
    "if 'ARID1A' not in ko_genes_list:\n",
    "    ko_genes_list.append('ARID1A')\n",
    "\n",
    "# Then, since the excel has multiple sheets, we concatenate them to obtain a single dataframe\n",
    "model_predictions = pd.concat(\n",
    "  [df for df in model_predictions.values()],\n",
    "  ignore_index=True\n",
    ")\n",
    "\n",
    "print(model_predictions.shape)\n",
    "model_predictions.head()"
   ]
  },
  {
   "cell_type": "code",
   "execution_count": 24,
   "metadata": {},
   "outputs": [
    {
     "name": "stdout",
     "output_type": "stream",
     "text": [
      "initial number of SLis:  10455\n",
      "number of SLis after removing non-reactome genes:  5464\n",
      "number of SLis after removing row for interactions found in only one cell line:  791\n"
     ]
    },
    {
     "data": {
      "text/html": [
       "<div>\n",
       "<style scoped>\n",
       "    .dataframe tbody tr th:only-of-type {\n",
       "        vertical-align: middle;\n",
       "    }\n",
       "\n",
       "    .dataframe tbody tr th {\n",
       "        vertical-align: top;\n",
       "    }\n",
       "\n",
       "    .dataframe thead th {\n",
       "        text-align: right;\n",
       "    }\n",
       "</style>\n",
       "<table border=\"1\" class=\"dataframe\">\n",
       "  <thead>\n",
       "    <tr style=\"text-align: right;\">\n",
       "      <th></th>\n",
       "      <th>gene1</th>\n",
       "      <th>gene2</th>\n",
       "      <th>cell_line</th>\n",
       "    </tr>\n",
       "  </thead>\n",
       "  <tbody>\n",
       "    <tr>\n",
       "      <th>5</th>\n",
       "      <td>AARS2</td>\n",
       "      <td>PTTG1</td>\n",
       "      <td>30033366_JURKAT;30033366_K562</td>\n",
       "    </tr>\n",
       "    <tr>\n",
       "      <th>29</th>\n",
       "      <td>ABCB7</td>\n",
       "      <td>HSCB</td>\n",
       "      <td>30033366_JURKAT;30033366_K562</td>\n",
       "    </tr>\n",
       "    <tr>\n",
       "      <th>37</th>\n",
       "      <td>ABCB7</td>\n",
       "      <td>OPA1</td>\n",
       "      <td>30033366_JURKAT;30033366_K562</td>\n",
       "    </tr>\n",
       "    <tr>\n",
       "      <th>39</th>\n",
       "      <td>ABCB7</td>\n",
       "      <td>PITRM1</td>\n",
       "      <td>30033366_JURKAT;30033366_K562</td>\n",
       "    </tr>\n",
       "    <tr>\n",
       "      <th>61</th>\n",
       "      <td>ACO1</td>\n",
       "      <td>IREB2</td>\n",
       "      <td>34469736_HELA;34469736_PC9</td>\n",
       "    </tr>\n",
       "  </tbody>\n",
       "</table>\n",
       "</div>"
      ],
      "text/plain": [
       "    gene1   gene2                      cell_line\n",
       "5   AARS2   PTTG1  30033366_JURKAT;30033366_K562\n",
       "29  ABCB7    HSCB  30033366_JURKAT;30033366_K562\n",
       "37  ABCB7    OPA1  30033366_JURKAT;30033366_K562\n",
       "39  ABCB7  PITRM1  30033366_JURKAT;30033366_K562\n",
       "61   ACO1   IREB2     34469736_HELA;34469736_PC9"
      ]
     },
     "execution_count": 24,
     "metadata": {},
     "output_type": "execute_result"
    }
   ],
   "source": [
    "# This table, from SLKB, shows which SL pairs scored within the top 10% of 5 different scoring systems, among 22 different cell lines.\n",
    "#\n",
    "# Downloaded on 04/04/2025 from https://slkb.osubmi.org/,\n",
    "\n",
    "slkb_predictions = pd.read_excel(\"inputs/SLKB_predictions.xlsx\", sheet_name=None)\n",
    "\n",
    "# Here, we also have to concatenate the different sheets\n",
    "slkb_predictions = pd.concat(\n",
    "  [df.assign(cell_line=name) for name, df in slkb_predictions.items()],\n",
    "  ignore_index=True\n",
    ")\n",
    "\n",
    "# We separate the \"gene_pair\" column into two separate columns, to match the format of our first table\n",
    "slkb_predictions[[\"gene1\", \"gene2\"]] = slkb_predictions[\"gene_pair\"].str.split('|', expand=True)\n",
    "slkb_predictions.drop(columns=\"gene_pair\", inplace=True)\n",
    "\n",
    "# According to the SLKB paper, genes are considered \"SLi\" if they are in the top 10% of at least 3 different scoring systems, so we filter the dataframe accordingly\n",
    "slkb_predictions_sli = slkb_predictions[slkb_predictions[\"total_count\"] >= 3]\n",
    "\n",
    "# Group by gene pairs and aggregate cell lines and scoring metrics\n",
    "slkb_predictions_sli = slkb_predictions_sli.groupby(['gene1', 'gene2']).agg({\n",
    "    'cell_line': lambda x: ';'.join(sorted(set(x))),\n",
    "}).reset_index()\n",
    "\n",
    "print(\"initial number of SLis: \", slkb_predictions_sli.shape[0])\n",
    "\n",
    "# We now need to filter the SLi pairs to only include those that are also present in our model predictions\n",
    "slkb_predictions_sli = slkb_predictions_sli[\n",
    "    slkb_predictions_sli['gene1'].isin(ko_genes_list) & slkb_predictions_sli['gene2'].isin(ko_genes_list)\n",
    "]\n",
    "print(\"number of SLis after removing non-reactome genes: \", slkb_predictions_sli.shape[0])\n",
    "\n",
    "# We then filter the SLi pairs to only include those that have been found in at least two different cell lines\n",
    "slkb_predictions_sli = slkb_predictions_sli[\n",
    "    slkb_predictions_sli['cell_line'].str.split(';').apply(len) >= 2\n",
    "]\n",
    "print(\"number of SLis after removing row for interactions found in only one cell line: \", slkb_predictions_sli.shape[0])\n",
    "\n",
    "slkb_predictions_sli.head()"
   ]
  },
  {
   "cell_type": "code",
   "execution_count": 23,
   "metadata": {},
   "outputs": [
    {
     "name": "stdout",
     "output_type": "stream",
     "text": [
      "number of unique mutants:  330\n"
     ]
    }
   ],
   "source": [
    "# Now we export the number of \"unique\" mutants to feed our R model so that our screening is more complete\n",
    "unique_mutants_sli = slkb_predictions_sli[\"gene1\"].unique()\n",
    "\n",
    "print(\"number of unique mutants: \", len(unique_mutants_sli))\n",
    "\n",
    "# Saving it to a csv\n",
    "np.savetxt(\"outputs/unique_mutants_sli_slkb.csv\", unique_mutants_sli, delimiter=\",\", fmt=\"%s\")"
   ]
  }
 ],
 "metadata": {
  "kernelspec": {
   "display_name": ".venv",
   "language": "python",
   "name": "python3"
  },
  "language_info": {
   "codemirror_mode": {
    "name": "ipython",
    "version": 3
   },
   "file_extension": ".py",
   "mimetype": "text/x-python",
   "name": "python",
   "nbconvert_exporter": "python",
   "pygments_lexer": "ipython3",
   "version": "3.13.3"
  }
 },
 "nbformat": 4,
 "nbformat_minor": 2
}
