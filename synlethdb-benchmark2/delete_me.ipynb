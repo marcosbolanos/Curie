{
 "cells": [
  {
   "cell_type": "code",
   "execution_count": 1,
   "id": "0376963d",
   "metadata": {},
   "outputs": [],
   "source": [
    "import pandas as pd"
   ]
  },
  {
   "cell_type": "code",
   "execution_count": 2,
   "id": "3f281cfb",
   "metadata": {},
   "outputs": [],
   "source": [
    "ccle_expression = pd.read_csv(\"./sli_algo/sli-algo inputs/CCLE_Expression.csv\")"
   ]
  },
  {
   "cell_type": "code",
   "execution_count": 17,
   "id": "d7e1a7b7",
   "metadata": {},
   "outputs": [
    {
     "data": {
      "text/plain": [
       "0       0.000000\n",
       "1       0.028569\n",
       "2       0.000000\n",
       "3       1.035624\n",
       "4       2.372952\n",
       "          ...   \n",
       "1384    0.028569\n",
       "1385    0.028569\n",
       "1386    0.056584\n",
       "1387    1.427606\n",
       "1388    0.344828\n",
       "Name: BCL2L14 (79370), Length: 1389, dtype: float64"
      ]
     },
     "execution_count": 17,
     "metadata": {},
     "output_type": "execute_result"
    }
   ],
   "source": [
    "ccle_expression[\"BCL2L14 (79370)\"].iloc[:2000]"
   ]
  }
 ],
 "metadata": {
  "kernelspec": {
   "display_name": ".venv",
   "language": "python",
   "name": "python3"
  },
  "language_info": {
   "codemirror_mode": {
    "name": "ipython",
    "version": 3
   },
   "file_extension": ".py",
   "mimetype": "text/x-python",
   "name": "python",
   "nbconvert_exporter": "python",
   "pygments_lexer": "ipython3",
   "version": "3.13.3"
  }
 },
 "nbformat": 4,
 "nbformat_minor": 5
}
